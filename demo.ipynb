{
 "cells": [
  {
   "cell_type": "code",
   "execution_count": null,
   "id": "80c61b3b",
   "metadata": {},
   "outputs": [],
   "source": [
    "from openai import OpenAI\n",
    "client = OpenAI(api_key=\"\")"
   ]
  },
  {
   "cell_type": "code",
   "execution_count": null,
   "id": "3e145bed",
   "metadata": {},
   "outputs": [],
   "source": [
    "system_prompt = \"\"\"\n",
    "    You are a smart AI, answer the questions wisely\n",
    "\"\"\""
   ]
  },
  {
   "cell_type": "code",
   "execution_count": null,
   "id": "3a9a4b11",
   "metadata": {},
   "outputs": [],
   "source": [
    "user_prompt =  f\"\"\"\n",
    "    Xin chào!\n",
    "\"\"\""
   ]
  },
  {
   "cell_type": "code",
   "execution_count": null,
   "id": "0fa58b1c",
   "metadata": {},
   "outputs": [],
   "source": [
    "completion = client.chat.completions.create(\n",
    "    model=\"gpt-4o-mini\",\n",
    "    messages=[\n",
    "        {\n",
    "            \"role\": \"system\", \n",
    "            \"content\": system_prompt\n",
    "        },\n",
    "        \n",
    "        {\n",
    "            \"role\": \"user\",\n",
    "            \"content\": user_prompt\n",
    "        },\n",
    "    ],\n",
    "    max_tokens=2000\n",
    ")\n",
    "\n",
    "content = completion.choices[0].message.content\n",
    "print(content)"
   ]
  },
  {
   "cell_type": "code",
   "execution_count": null,
   "id": "8eccd368",
   "metadata": {},
   "outputs": [],
   "source": [
    "def binary_to_text(binary):\n",
    "    chars = binary.strip().split()\n",
    "    return ''.join(chr(int(b, 2)) for b in chars)"
   ]
  }
 ],
 "metadata": {
  "language_info": {
   "name": "python"
  }
 },
 "nbformat": 4,
 "nbformat_minor": 5
}
